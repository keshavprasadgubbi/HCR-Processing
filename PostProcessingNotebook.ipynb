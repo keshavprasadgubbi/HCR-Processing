{
 "cells": [
  {
   "cell_type": "markdown",
   "id": "34ad30c2-3a16-43e0-a687-eb642cdfb492",
   "metadata": {},
   "source": [
    "# HCR Post-alignment Image Processing"
   ]
  },
  {
   "cell_type": "code",
   "execution_count": 1,
   "id": "797ed17c-9b67-4f48-b40a-20f6089b7e9a",
   "metadata": {},
   "outputs": [],
   "source": [
    "import os\n",
    "from skimage import exposure\n",
    "from skimage.filters.rank import mean_bilateral\n",
    "from skimage.restoration import  denoise_bilateral\n",
    "from skimage.morphology import disk\n",
    "from skimage.filters import gaussian\n",
    "import cv2 as cv\n",
    "import numpy as np\n",
    "import tifffile as tiff\n",
    "import SimpleITK as sitk\n",
    "from scipy import ndimage"
   ]
  },
  {
   "cell_type": "code",
   "execution_count": 2,
   "id": "bf8afd37-60a1-4f72-a274-d03e056c9c9c",
   "metadata": {},
   "outputs": [],
   "source": [
    "file_path = r'C:\\Users\\keshavgubbi\\Desktop\\HCR\\raw_data\\aligned\\ccka_4'\n",
    "#C:\\Users\\keshavgubbi\\Desktop\\HCR\\raw_data\\aligned\\chat"
   ]
  },
  {
   "cell_type": "code",
   "execution_count": 3,
   "id": "7da6dfa8-076d-4b5b-aa77-73074f017204",
   "metadata": {},
   "outputs": [],
   "source": [
    "def split_and_rename(f):\n",
    "    filename, exte = f.split('.')\n",
    "    return filename\n",
    "\n",
    "#Contrast Enhancement Function\n",
    "alpha = 10.0 # Contrast control (1.0-3.0) but 5 is required for my purposes here\n",
    "beta = 5 # Brightness control (0-100). Not to be added beyond 5, to not hamper the signal with unnecesary salt and peper noise."
   ]
  },
  {
   "cell_type": "code",
   "execution_count": 4,
   "id": "1e5c5246-8c59-4d71-aaad-00f11deb4bfc",
   "metadata": {},
   "outputs": [
    {
     "name": "stdout",
     "output_type": "stream",
     "text": [
      "T_ccka.nrrd\n",
      "359\n",
      "Writing image T_ccka.tif\n",
      "T_ccka_4_gcamp.nrrd\n",
      "359\n",
      "Writing image T_ccka_4_gcamp.tif\n"
     ]
    }
   ],
   "source": [
    "\n",
    "for file in os.listdir(file_path):\n",
    "    if file.endswith('.nrrd'):\n",
    "        print(file)\n",
    "        processed_page_list = []\n",
    "        name = split_and_rename(file)\n",
    "        aligned_image = sitk.ReadImage(os.path.join(file_path, file))\n",
    "        aligned_image_array_list = list(sitk.GetArrayFromImage(aligned_image))\n",
    "        \n",
    "        # we now have a list of 2D images and I can do processing on them and then restack them.\n",
    "        print(len(aligned_image_array_list))\n",
    "        for image in aligned_image_array_list:\n",
    "            # print(image.shape)\n",
    "            contrast_enhanced_page = cv.convertScaleAbs(image, alpha=alpha, beta=beta) # contrst enhancement, doen for every 2D Image in the stack            \n",
    "#             bilat_page= cv.bilateralFilter(contrast_enhanced_page,9,75,75) #Adding a Bilat filter to reduce salt and pepper noise\n",
    "#             min_filter_image = ndimage.minimum_filter(bilat_page, size=1) # passing through a mimimum filter \n",
    "            processed_page_list.append(contrast_enhanced_page)\n",
    "            \n",
    "        # print(len(processed_page_list))\n",
    "        processed_image_stack = np.stack(processed_page_list)\n",
    "        processed_image = np.stack(processed_image_stack).astype('uint8')\n",
    "\n",
    "        print(f'Writing image {name}.tif')\n",
    "        with tiff.TiffWriter(os.path.join(file_path, f\"{name}_processed.tif\"), imagej=True) as tifw:\n",
    "            tifw.write(processed_image, metadata={'spacing': 1.0, 'unit': 'um', 'axes': 'ZYX'})"
   ]
  },
  {
   "cell_type": "code",
   "execution_count": null,
   "id": "8bcae1cc-73a4-49f7-beb6-0ed71bc070a0",
   "metadata": {},
   "outputs": [],
   "source": []
  }
 ],
 "metadata": {
  "kernelspec": {
   "display_name": "Python 3",
   "language": "python",
   "name": "python3"
  },
  "language_info": {
   "codemirror_mode": {
    "name": "ipython",
    "version": 3
   },
   "file_extension": ".py",
   "mimetype": "text/x-python",
   "name": "python",
   "nbconvert_exporter": "python",
   "pygments_lexer": "ipython3",
   "version": "3.8.10"
  }
 },
 "nbformat": 4,
 "nbformat_minor": 5
}
