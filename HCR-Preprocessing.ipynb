{
 "cells": [
  {
   "cell_type": "markdown",
   "id": "58fa5103-d93f-41fc-b163-bf3604c69cbf",
   "metadata": {},
   "source": [
    "# HCR Pre-Processing\n"
   ]
  },
  {
   "cell_type": "markdown",
   "id": "0fe97a27-32ee-4ad7-b282-d040084fbe42",
   "metadata": {},
   "source": [
    "## *** Author: Keshava Prasad Gubbi***\n",
    "## Script for pre-processing HCR Lines.\n",
    "## Read the filenames and split and determine names of sig1, sig2 and ref channels\n",
    "## Split the Czi imagefilename into respective channels and save it as nrrd with respective names as per channels."
   ]
  },
  {
   "cell_type": "code",
   "execution_count": 3,
   "id": "a624d0dd-f8b3-450e-a3ec-eb80699f53a9",
   "metadata": {},
   "outputs": [],
   "source": [
    "import os\n",
    "import numpy as np\n",
    "from aicspylibczi import CziFile\n",
    "import re\n",
    "import nrrd"
   ]
  },
  {
   "cell_type": "markdown",
   "id": "106213c5-ab86-470f-8fb1-f893a50af0b1",
   "metadata": {},
   "source": [
    "### Filetype A (with ch2 as reference Channel) - For the old style of naming images!\n",
    "\n",
    "### Please enter the path (full folder path into the file_path variable) for the line to be pre-processed!"
   ]
  },
  {
   "cell_type": "code",
   "execution_count": 3,
   "id": "a949e186-dfd3-4969-b07c-af22bc7fe898",
   "metadata": {},
   "outputs": [],
   "source": [
    "file_path = r'C:\\Users\\keshavgubbi\\Desktop\\HCR\\raw_data\\20201204_pmch_pmch1'\n",
    "ref_channel_path = file_path + '/reference/'\n",
    "sig_channel_path = file_path + '/signal/'"
   ]
  },
  {
   "cell_type": "code",
   "execution_count": 6,
   "id": "35f6e264-9140-45a5-a09a-f9709c552b0e",
   "metadata": {},
   "outputs": [],
   "source": [
    "def create_channel_folder(path):\n",
    "    if not os.path.exists(path):\n",
    "        print(f'Creating {path}')\n",
    "        os.makedirs(path, exist_ok=True)\n",
    "        return path"
   ]
  },
  {
   "cell_type": "markdown",
   "id": "5441908c-63ab-476b-b58f-8bd53637930c",
   "metadata": {},
   "source": [
    "### ########Splitting Channels####################"
   ]
  },
  {
   "cell_type": "code",
   "execution_count": 5,
   "id": "9c8e15e6-8626-4b3a-a04f-77473d488ef4",
   "metadata": {},
   "outputs": [
    {
     "name": "stdout",
     "output_type": "stream",
     "text": [
      "Enter Reference Channel Number: (please enter 1 if refrence channel in image in channel2!)1\n",
      "Image name:  6dpf_huc_h2b_gcamp6s_pmch1_ch3_GC6s_ch2_pmch2_ch1_1.czi\n",
      "fish_num: 1\n",
      "ref_ch_name: GC6s\n",
      "sig_ch1_name: pmch2\n",
      "sig_ch2_name: pmch1\n",
      "embryo: 6dpf_huc_h2b_gcamp6s\n",
      "Processing ch_num: 0 ...........\n",
      "Processing ch_num: 1 ...........\n",
      "Processing ch_num: 2 ...........\n",
      "Writing the individual Channels into nrrd format!\n",
      "Creating Reference Channel nrrd file with name : 6dpf_huc_h2b_gcamp6s_1_GC6s.nrrd \n",
      "Creating Signal1 Channel nrrd file with name : 6dpf_huc_h2b_gcamp6s_1_pmch2.nrrd\n",
      "Creating Signal2 Channel nrrd file with name : 6dpf_huc_h2b_gcamp6s_1_pmch1.nrrd\n",
      "###################### Completed processing 6dpf_huc_h2b_gcamp6s_pmch1_ch3_GC6s_ch2_pmch2_ch1_1.czi ###################### \n",
      "Image name:  6dpf_huc_h2b_gcamp6s_pmch1_ch3_GC6s_ch2_pmch2_ch1_2.czi\n",
      "fish_num: 2\n",
      "ref_ch_name: GC6s\n",
      "sig_ch1_name: pmch2\n",
      "sig_ch2_name: pmch1\n",
      "embryo: 6dpf_huc_h2b_gcamp6s\n",
      "Processing ch_num: 0 ...........\n",
      "Processing ch_num: 1 ...........\n",
      "Processing ch_num: 2 ...........\n",
      "Writing the individual Channels into nrrd format!\n",
      "Creating Reference Channel nrrd file with name : 6dpf_huc_h2b_gcamp6s_2_GC6s.nrrd \n",
      "Creating Signal1 Channel nrrd file with name : 6dpf_huc_h2b_gcamp6s_2_pmch2.nrrd\n",
      "Creating Signal2 Channel nrrd file with name : 6dpf_huc_h2b_gcamp6s_2_pmch1.nrrd\n",
      "###################### Completed processing 6dpf_huc_h2b_gcamp6s_pmch1_ch3_GC6s_ch2_pmch2_ch1_2.czi ###################### \n",
      "Image name:  6dpf_huc_h2b_gcamp6s_pmch1_ch3_GC6s_ch2_pmch2_ch1_3.czi\n",
      "fish_num: 3\n",
      "ref_ch_name: GC6s\n",
      "sig_ch1_name: pmch2\n",
      "sig_ch2_name: pmch1\n",
      "embryo: 6dpf_huc_h2b_gcamp6s\n",
      "Processing ch_num: 0 ...........\n",
      "Processing ch_num: 1 ...........\n",
      "Processing ch_num: 2 ...........\n",
      "Writing the individual Channels into nrrd format!\n",
      "Creating Reference Channel nrrd file with name : 6dpf_huc_h2b_gcamp6s_3_GC6s.nrrd \n",
      "Creating Signal1 Channel nrrd file with name : 6dpf_huc_h2b_gcamp6s_3_pmch2.nrrd\n",
      "Creating Signal2 Channel nrrd file with name : 6dpf_huc_h2b_gcamp6s_3_pmch1.nrrd\n",
      "###################### Completed processing 6dpf_huc_h2b_gcamp6s_pmch1_ch3_GC6s_ch2_pmch2_ch1_3.czi ###################### \n"
     ]
    }
   ],
   "source": [
    "\n",
    "ref_num = int(input('Enter Reference Channel Number: (please enter 1 if refrence channel in image in channel2!)'))\n",
    "for file in os.listdir(file_path):\n",
    "    if file.endswith('.czi'):\n",
    "        print('Image name: ',file)\n",
    "#         ref_name, exp_name, sig2_name, sig1_name, f_num = get_channel_names(file)\n",
    "        create_channel_folder(ref_channel_path)\n",
    "        create_channel_folder(sig_channel_path)\n",
    "        \n",
    "        name, ext = file.split('.',1)\n",
    "#         print(name)\n",
    "        e_name,  ref_ch_name, sig_ch1_name, fish_num = re.split(r'_ch\\d_', name)\n",
    "        embryo, sig_ch2_name = e_name.rsplit('_',1)\n",
    "        \n",
    "        print('fish_num:', fish_num)\n",
    "        print('ref_ch_name:', ref_ch_name)\n",
    "        print('sig_ch1_name:', sig_ch1_name)\n",
    "        print('sig_ch2_name:', sig_ch2_name)\n",
    "#         print('embryo_name:', embryo_name)\n",
    "        print('embryo:', embryo)\n",
    "\n",
    "        c = CziFile(os.path.join(file_path, file))\n",
    "        max_channels = range(*c.dims_shape()[0]['C'])\n",
    "        max_slices = range(*c.dims_shape()[0]['Z'])\n",
    "\n",
    "        # for ch_num in max_channels:\n",
    "        for ch_num in range(len(max_channels)):\n",
    "            print('Processing ch_num:', ch_num, '...........')\n",
    "            ref_image_list = sig1_image_list = sig2_image_list = []\n",
    "            for z_plane in max_slices:\n",
    "                imgarray, shp = c.read_image(B=0, S=0, C=ch_num, T=0, Z=z_plane)\n",
    "                if ch_num == 0:\n",
    "                    ref_image_list.append(np.squeeze(imgarray))\n",
    "                elif ch_num == 1:\n",
    "                    sig1_image_list.append(np.squeeze(imgarray))\n",
    "                elif ch_num == 2:\n",
    "                    sig2_image_list.append(np.squeeze(imgarray))   \n",
    "                else:\n",
    "                    print('Exceeded Maximum number of channels')\n",
    "        RImage = np.stack(ref_image_list).astype('uint8')\n",
    "\n",
    "        S1Image = np.stack(sig1_image_list).astype('uint8')\n",
    "\n",
    "        S2Image = np.stack(sig1_image_list).astype('uint8')\n",
    "        \n",
    "        ### Writing the individual Channels into nrrd format\n",
    "        print('Writing the individual Channels into nrrd format!')\n",
    "        \n",
    "        print(f'Creating Reference Channel nrrd file with name : {embryo}_{fish_num}_{ref_ch_name}.nrrd ')\n",
    "        nrrd.write(os.path.join(ref_channel_path, f\"{embryo}_{fish_num}_{ref_ch_name}.nrrd\"), RImage, index_order='C')\n",
    "        print(f'Creating Signal1 Channel nrrd file with name : {embryo}_{fish_num}_{sig_ch1_name}.nrrd')\n",
    "        nrrd.write(os.path.join(sig_channel_path, f\"{embryo}_{fish_num}_{sig_ch1_name}.nrrd\"),S1Image, index_order='C')\n",
    "        print(f'Creating Signal2 Channel nrrd file with name : {embryo}_{fish_num}_{sig_ch2_name}.nrrd')\n",
    "        nrrd.write(os.path.join(sig_channel_path, f\"{embryo}_{fish_num}_{sig_ch2_name}.nrrd\"),S2Image, index_order='C')\n",
    "        \n",
    "        \n",
    "        print(f'###################### Completed processing {file} ###################### ')"
   ]
  },
  {
   "cell_type": "markdown",
   "id": "fe0314b2-e935-4c56-a3c8-cc9e633c48bb",
   "metadata": {},
   "source": [
    "### Stacking the indvidual slices into respective images based on channel number!"
   ]
  },
  {
   "cell_type": "markdown",
   "id": "0c1d7789-3881-4d18-b577-a412c28b5693",
   "metadata": {},
   "source": [
    "### Filetype B (with ch1 as reference Channel) - For the new style of naming images!\n",
    "\n",
    "### Please enter the path (full folder path into the file_path variable) for the line to be pre-processed!"
   ]
  },
  {
   "cell_type": "code",
   "execution_count": 4,
   "id": "0381da06-9852-43c9-90b6-91a653651df8",
   "metadata": {},
   "outputs": [],
   "source": [
    "file_path = r'C:\\Users\\keshavgubbi\\Desktop\\HCR\\raw_data\\20210302_rspo1_cckb'\n",
    "ref_channel_path = file_path + '/reference/'\n",
    "sig_channel_path = file_path + '/signal/'"
   ]
  },
  {
   "cell_type": "code",
   "execution_count": 10,
   "id": "1af90df2-5400-41f7-963d-af7e4802313d",
   "metadata": {},
   "outputs": [
    {
     "name": "stdin",
     "output_type": "stream",
     "text": [
      "Enter Reference Channel Number: (please enter 0 if refrence channel in image is channel1!) 0\n"
     ]
    },
    {
     "name": "stdout",
     "output_type": "stream",
     "text": [
      "Image name:  6dpf_huc_h2b_gcamp6s_ch3_cckb_ch2_rspo1_ch1_GC6s_1.czi\n",
      "fish_num: 1\n",
      "ref_ch_name: GC6s\n",
      "sig_ch1_name: cckb\n",
      "sig_ch2_name: rspo1\n",
      "embryo_name: huc_h2b\n",
      "###################### Completed processing 6dpf_huc_h2b_gcamp6s_ch3_cckb_ch2_rspo1_ch1_GC6s_1.czi ###################### \n",
      "Image name:  6dpf_huc_h2b_gcamp6s_ch3_cckb_ch2_rspo1_ch1_GC6s_2.czi\n",
      "fish_num: 2\n",
      "ref_ch_name: GC6s\n",
      "sig_ch1_name: cckb\n",
      "sig_ch2_name: rspo1\n",
      "embryo_name: huc_h2b\n",
      "###################### Completed processing 6dpf_huc_h2b_gcamp6s_ch3_cckb_ch2_rspo1_ch1_GC6s_2.czi ###################### \n",
      "Image name:  6dpf_huc_h2b_gcamp6s_ch3_cckb_ch2_rspo1_ch1_GC6s_3.czi\n",
      "fish_num: 3\n",
      "ref_ch_name: GC6s\n",
      "sig_ch1_name: cckb\n",
      "sig_ch2_name: rspo1\n",
      "embryo_name: huc_h2b\n",
      "###################### Completed processing 6dpf_huc_h2b_gcamp6s_ch3_cckb_ch2_rspo1_ch1_GC6s_3.czi ###################### \n"
     ]
    }
   ],
   "source": [
    "########Splitting Channels####################\n",
    "ref_num = int(input('Enter Reference Channel Number: (please enter 0 if refrence channel in image is channel1!)'))\n",
    "\n",
    "for file in os.listdir(file_path):\n",
    "    if file.endswith('.czi'):\n",
    "        print('Image name: ',file)\n",
    "        create_channel_folder(ref_channel_path)\n",
    "        create_channel_folder(sig_channel_path)\n",
    "        e_name, sig_ch1_name, sig_ch2_name, ref_ch_name = re.split(r'_ch\\d_', file)\n",
    "        c, ext = ref_ch_name.split('.',1)\n",
    "        ref_ch_name, fish_num = c.split('_',1)\n",
    "        e1_name, f = e_name.rsplit('_',1)\n",
    "        days, embryo_name = e1_name.split('_',1)\n",
    "        \n",
    "        print('fish_num:', fish_num)\n",
    "        print('ref_ch_name:', ref_ch_name)\n",
    "        print('sig_ch1_name:', sig_ch1_name)\n",
    "        print('sig_ch2_name:', sig_ch2_name)\n",
    "        print('embryo_name:', embryo_name)\n",
    "        \n",
    "#         print(e_name)\n",
    "#         print(e1_name)\n",
    "#         print(f, days)\n",
    "        \n",
    "        c = CziFile(os.path.join(file_path, file))\n",
    "        max_channels = range(*c.dims_shape()[0]['C'])\n",
    "        max_slices = range(*c.dims_shape()[0]['Z'])\n",
    "\n",
    "        # for ch_num in max_channels:\n",
    "        for ch_num in range(len(max_channels)):\n",
    "            print('Processing ch_num:', ch_num, '...........')\n",
    "            ref_image_list = sig1_image_list = sig2_image_list = []\n",
    "            for z_plane in max_slices:\n",
    "                imgarray, shp = c.read_image(B=0, S=0, C=ch_num, T=0, Z=z_plane)\n",
    "                if ch_num == 0 and ch_num == ref_num:\n",
    "                    ref_image_list.append(np.squeeze(imgarray))\n",
    "                elif ch_num == 1:\n",
    "                    sig1_image_list.append(np.squeeze(imgarray))\n",
    "                elif ch_num == 2:\n",
    "                    sig2_image_list.append(np.squeeze(imgarray))   \n",
    "                else:\n",
    "                    print('Exceeded Maximum number of channels')\n",
    "                    \n",
    "        RImage = np.stack(ref_image_list).astype('uint8')\n",
    "\n",
    "        S1Image = np.stack(sig1_image_list).astype('uint8')\n",
    "\n",
    "        S2Image = np.stack(sig1_image_list).astype('uint8')\n",
    "\n",
    "        ### Writing the individual Channels into nrrd format\n",
    "        print('Writing the individual Channels into nrrd format!')\n",
    "\n",
    "        print(f'Creating Reference Channel nrrd file with name : {embryo_name}_{fish_num}_ch0_{ref_ch_name}.nrrd ')\n",
    "        nrrd.write(os.path.join(ref_channel_path, f\"{embryo_name}_{fish_num}_ch0_{ref_ch_name}.nrrd\"), RImage, index_order='C')\n",
    "        print(f'Creating nrrd file for Signal1 Channel with name : {embryo_name}_{fish_num}_ch1_{sig_ch1_name}.nrrd')\n",
    "        nrrd.write(os.path.join(sig_channel_path, f\"{embryo_name}_{fish_num}_ch1_{sig_ch1_name}.nrrd\"),S1Image, index_order='C')\n",
    "        print(f'Creating nrrd file Signal2 Channel with name : {embryo_name}_{fish_num}_ch2_{sig_ch1_name}.nrrd')\n",
    "        nrrd.write(os.path.join(sig_channel_path, f\"{embryo_name}_{fish_num}_ch2_{sig_ch2_name}.nrrd\"),S2Image, index_order='C')\n",
    "        \n",
    "        print(f'###################### Completed processing {file} ###################### ')"
   ]
  },
  {
   "cell_type": "code",
   "execution_count": null,
   "id": "5a097bac-b339-44e8-a2ef-42c64aec27db",
   "metadata": {},
   "outputs": [],
   "source": []
  }
 ],
 "metadata": {
  "kernelspec": {
   "display_name": "Python 3",
   "language": "python",
   "name": "python3"
  },
  "language_info": {
   "codemirror_mode": {
    "name": "ipython",
    "version": 3
   },
   "file_extension": ".py",
   "mimetype": "text/x-python",
   "name": "python",
   "nbconvert_exporter": "python",
   "pygments_lexer": "ipython3",
   "version": "3.8.8"
  }
 },
 "nbformat": 4,
 "nbformat_minor": 5
}
