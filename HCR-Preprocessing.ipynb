{
 "cells": [
  {
   "cell_type": "markdown",
   "id": "58fa5103-d93f-41fc-b163-bf3604c69cbf",
   "metadata": {},
   "source": [
    "# HCR Pre-Processing\n"
   ]
  },
  {
   "cell_type": "markdown",
   "id": "0fe97a27-32ee-4ad7-b282-d040084fbe42",
   "metadata": {},
   "source": [
    "## *** Author: Keshava Prasad Gubbi***\n",
    "## Script for pre-processing HCR Lines.\n",
    "## Read the filenames and split and determine names of sig1, sig2 and ref channels\n",
    "## Split the Czi imagefilename into respective channels and save it as nrrd with respective names as per channels."
   ]
  },
  {
   "cell_type": "code",
   "execution_count": 1,
   "id": "a624d0dd-f8b3-450e-a3ec-eb80699f53a9",
   "metadata": {},
   "outputs": [],
   "source": [
    "import os\n",
    "import numpy as np\n",
    "from aicspylibczi import CziFile\n",
    "import re\n",
    "import nrrd\n",
    "from aicsimageio import AICSImage"
   ]
  },
  {
   "cell_type": "code",
   "execution_count": 2,
   "id": "35f6e264-9140-45a5-a09a-f9709c552b0e",
   "metadata": {},
   "outputs": [],
   "source": [
    "def create_channel_folder(path):\n",
    "    if not os.path.exists(path):\n",
    "        print(f'Creating {path}')\n",
    "        os.makedirs(path, exist_ok=True)\n",
    "        return path"
   ]
  },
  {
   "cell_type": "markdown",
   "id": "5441908c-63ab-476b-b58f-8bd53637930c",
   "metadata": {},
   "source": [
    "### ########Splitting Channels####################"
   ]
  },
  {
   "cell_type": "markdown",
   "id": "0c1d7789-3881-4d18-b577-a412c28b5693",
   "metadata": {},
   "source": [
    "### Filetype B (with ch1 as reference Channel) - For the new style of naming images!\n",
    "\n",
    "### Please enter the path (full folder path into the file_path variable) for the line to be pre-processed!"
   ]
  },
  {
   "cell_type": "code",
   "execution_count": 3,
   "id": "0381da06-9852-43c9-90b6-91a653651df8",
   "metadata": {},
   "outputs": [],
   "source": [
    "file_path = r'C:\\Users\\keshavgubbi\\Desktop\\HCR\\raw_data\\20210302_rspo1_cckb'\n",
    "preprocessed_path = file_path + '/preprocessed/'\n",
    "# ref_num = int(input('Enter Reference Channel Number: (please enter 0 if refrence channel in image is channel1!)'))\n",
    "ref_num = 0"
   ]
  },
  {
   "cell_type": "code",
   "execution_count": 4,
   "id": "1af90df2-5400-41f7-963d-af7e4802313d",
   "metadata": {},
   "outputs": [
    {
     "name": "stdout",
     "output_type": "stream",
     "text": [
      "Image name:  6dpf_huc_h2b_gcamp6s_ch3_cckb_ch2_rspo1_ch1_GC6s_1.czi\n",
      "fish_num: 1\n",
      "ref_ch_name: GC6s\n",
      "sig_ch1_name: cckb\n",
      "sig_ch2_name: rspo1\n",
      "embryo_name: huc_h2b\n"
     ]
    },
    {
     "name": "stderr",
     "output_type": "stream",
     "text": [
      "C:\\Users\\keshavgubbi\\Anaconda3\\lib\\site-packages\\aicsimageio\\transforms.py:177: UserWarning: Data has dimension B with depth 1, assuming B=0 is the desired value, if not the case specify B=x where x is an integer, list, tuple, range, or slice.\n",
      "  warnings.warn(\n"
     ]
    },
    {
     "name": "stdout",
     "output_type": "stream",
     "text": [
      "Writing the individual Channels into nrrd format!\n",
      "Creating Reference Channel nrrd file with name : huc_h2b_1_ch0_GC6s.nrrd \n",
      "Creating nrrd file for Signal1 Channel with name : huc_h2b_1_ch1_cckb.nrrd\n",
      "Creating nrrd file Signal2 Channel with name : huc_h2b_1_ch2_cckb.nrrd\n",
      "###################### Completed processing 6dpf_huc_h2b_gcamp6s_ch3_cckb_ch2_rspo1_ch1_GC6s_1.czi ###################### \n",
      "Image name:  6dpf_huc_h2b_gcamp6s_ch3_cckb_ch2_rspo1_ch1_GC6s_2.czi\n",
      "fish_num: 2\n",
      "ref_ch_name: GC6s\n",
      "sig_ch1_name: cckb\n",
      "sig_ch2_name: rspo1\n",
      "embryo_name: huc_h2b\n",
      "Writing the individual Channels into nrrd format!\n",
      "Creating Reference Channel nrrd file with name : huc_h2b_2_ch0_GC6s.nrrd \n",
      "Creating nrrd file for Signal1 Channel with name : huc_h2b_2_ch1_cckb.nrrd\n",
      "Creating nrrd file Signal2 Channel with name : huc_h2b_2_ch2_cckb.nrrd\n",
      "###################### Completed processing 6dpf_huc_h2b_gcamp6s_ch3_cckb_ch2_rspo1_ch1_GC6s_2.czi ###################### \n",
      "Image name:  6dpf_huc_h2b_gcamp6s_ch3_cckb_ch2_rspo1_ch1_GC6s_3.czi\n",
      "fish_num: 3\n",
      "ref_ch_name: GC6s\n",
      "sig_ch1_name: cckb\n",
      "sig_ch2_name: rspo1\n",
      "embryo_name: huc_h2b\n",
      "Writing the individual Channels into nrrd format!\n",
      "Creating Reference Channel nrrd file with name : huc_h2b_3_ch0_GC6s.nrrd \n",
      "Creating nrrd file for Signal1 Channel with name : huc_h2b_3_ch1_cckb.nrrd\n",
      "Creating nrrd file Signal2 Channel with name : huc_h2b_3_ch2_cckb.nrrd\n",
      "###################### Completed processing 6dpf_huc_h2b_gcamp6s_ch3_cckb_ch2_rspo1_ch1_GC6s_3.czi ###################### \n"
     ]
    }
   ],
   "source": [
    "########Splitting Channels####################\n",
    "\n",
    "for file in os.listdir(file_path):\n",
    "    if file.endswith('.czi'):\n",
    "        print('Image name: ', file)\n",
    "        create_channel_folder(preprocessed_path)\n",
    "\n",
    "        e_name, sig_ch1_name, sig_ch2_name, ref_ch_name = re.split(r'_ch\\d_', file)\n",
    "        c, ext = ref_ch_name.split('.', 1)\n",
    "        ref_ch_name, fish_num = c.split('_', 1)\n",
    "        e1_name, f = e_name.rsplit('_', 1)\n",
    "        days, embryo_name = e1_name.split('_', 1)\n",
    "\n",
    "        print('fish_num:', fish_num)\n",
    "        print('ref_ch_name:', ref_ch_name)\n",
    "        print('sig_ch1_name:', sig_ch1_name)\n",
    "        print('sig_ch2_name:', sig_ch2_name)\n",
    "        print('embryo_name:', embryo_name)\n",
    "\n",
    "        c = AICSImage(os.path.join(file_path, file))\n",
    "\n",
    "        # Obtain the image data from respective channels\n",
    "        first_channel_data = c.get_image_data(\"ZYX\", C=0, S=0, T=0)\n",
    "        second_channel_data = c.get_image_data(\"ZYX\", C=1, S=0, T=0)\n",
    "        third_channel_data = c.get_image_data(\"ZYX\", C=2, S=0, T=0)\n",
    "\n",
    "        RImage = np.stack(first_channel_data).astype('uint8')\n",
    "        S1Image = np.stack(second_channel_data).astype('uint8')\n",
    "        S2Image = np.stack(third_channel_data).astype('uint8')\n",
    "\n",
    "        ### Writing the individual Channels into nrrd format\n",
    "        print('Writing the individual Channels into nrrd format!')\n",
    "\n",
    "        print(f'Creating Reference Channel nrrd file with name : {embryo_name}_{fish_num}_ch0_{ref_ch_name}.nrrd ')\n",
    "        nrrd.write(os.path.join(preprocessed_path, f\"{embryo_name}_{fish_num}_ch0_{ref_ch_name}.nrrd\"), RImage, index_order='C')\n",
    "        print(f'Creating nrrd file for Signal1 Channel with name : {embryo_name}_{fish_num}_ch1_{sig_ch1_name}.nrrd')\n",
    "        nrrd.write(os.path.join(preprocessed_path, f\"{embryo_name}_{fish_num}_ch1_{sig_ch1_name}.nrrd\"), S1Image, \n",
    "                   index_order='C')\n",
    "        print(f'Creating nrrd file Signal2 Channel with name : {embryo_name}_{fish_num}_ch2_{sig_ch2_name}.nrrd')\n",
    "        nrrd.write(os.path.join(preprocessed_path, f\"{embryo_name}_{fish_num}_ch2_{sig_ch2_name}.nrrd\"), S2Image,\n",
    "                   index_order='C')\n",
    "\n",
    "        print(f'###################### Completed processing {file} ###################### ')"
   ]
  },
  {
   "cell_type": "markdown",
   "id": "adb69aca-14ae-421d-b164-8ebe386097e4",
   "metadata": {},
   "source": [
    "# Creating script for cluster"
   ]
  },
  {
   "cell_type": "code",
   "execution_count": 14,
   "id": "579d4715-3ad4-46a2-b025-30e251ea576a",
   "metadata": {},
   "outputs": [],
   "source": [
    "#root_dir = r'C:\\Users\\keshavgubbi\\Desktop\\HCR'\n",
    "root_dir = r\"C:\\Users\\keshavgubbi\\Desktop\\HCR\"\n",
    "output_dir = r\"C:\\Users\\keshavgubbi\\Desktop\\HCR\\AutomatedScripts\"\n",
    "template_file = r\"C:\\Users\\keshavgubbi\\Desktop\\HCR\\20210615_HCR_alignment_1_1st_new.sh\""
   ]
  },
  {
   "cell_type": "code",
   "execution_count": 13,
   "id": "fc532a28-3c85-4d52-9b66-046dcc050377",
   "metadata": {},
   "outputs": [],
   "source": [
    "# os.listdir(root_dir) gaves me all the fish folders names inside root_dir\n",
    "for folder_name in os.listdir(root_dir):\n",
    "    #print(folder_name)\n",
    "    if not os.path.isfile(os.path.join(root_dir, f'HCR_alignment_{embryo_name}.sh')):\n",
    "        # path of scripts files\n",
    "        alignment_script_file = os.path.join(output_dir, f'HCR_alignment_{embryo_name}.sh')\n",
    "        \n",
    "#         # create new alignment script file\n",
    "#         alignment_script_file = open(output_script_path, \"wt+\")\n",
    "#         print(f\"The averaging script for {embryo_name} has been created!\")\n",
    "        \n",
    "#         # open template file\n",
    "#         template_file = open(avg_template_path, 'rt')\n",
    "        \n",
    "        with open(template_file, 'r') as templatefile, open(alignment_script_file, 'a') as scriptfile:\n",
    "            for line in templatefile:\n",
    "                print(line)\n",
    "                scriptfile.write(line)\n",
    "        \n",
    "#         # copy the template file to the new script file\n",
    "#         for line in template_file:\n",
    "#             print(line)\n",
    "#             if line.strip() == \"HCR=pyya_pyyb_1\":\n",
    "#                 alignment_script_file.write(\"HCR=\" + embryo_name.replace('\\r', ''))\n",
    "#             if line.strip() == \"ch2=pyyb\":\n",
    "#                 alignment_script_file.write(\"ch2=\" + sig_ch1_name.replace('\\r', ''))\n",
    "#             if line.strip() == \"ch3=pyya\":\n",
    "#                 alignment_script_file.write(\"ch2=\" + sig_ch2_name.replace('\\r', ''))\n",
    "\n",
    "#         print(f\"The averaging script for {embryo_name} has been created!\")"
   ]
  },
  {
   "cell_type": "code",
   "execution_count": null,
   "id": "2e58c19f-0932-49ce-b308-26c384227c3a",
   "metadata": {},
   "outputs": [],
   "source": []
  }
 ],
 "metadata": {
  "kernelspec": {
   "display_name": "Python 3",
   "language": "python",
   "name": "python3"
  },
  "language_info": {
   "codemirror_mode": {
    "name": "ipython",
    "version": 3
   },
   "file_extension": ".py",
   "mimetype": "text/x-python",
   "name": "python",
   "nbconvert_exporter": "python",
   "pygments_lexer": "ipython3",
   "version": "3.8.8"
  }
 },
 "nbformat": 4,
 "nbformat_minor": 5
}
