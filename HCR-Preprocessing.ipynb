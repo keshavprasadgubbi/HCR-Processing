{
 "cells": [
  {
   "cell_type": "markdown",
   "id": "58fa5103-d93f-41fc-b163-bf3604c69cbf",
   "metadata": {},
   "source": [
    "# HCR Pre-Processing\n"
   ]
  },
  {
   "cell_type": "markdown",
   "id": "0fe97a27-32ee-4ad7-b282-d040084fbe42",
   "metadata": {},
   "source": [
    "## *** Author: Keshava Prasad Gubbi***\n",
    "## Script for pre-processing HCR Lines.\n",
    "## Read the filenames and split and determine names of sig1, sig2 and ref channels\n",
    "## Split the Czi imagefilename into respective channels and save it as nrrd with respective names as per channels."
   ]
  },
  {
   "cell_type": "code",
   "execution_count": 1,
   "id": "a624d0dd-f8b3-450e-a3ec-eb80699f53a9",
   "metadata": {},
   "outputs": [],
   "source": [
    "import os\n",
    "import numpy as np\n",
    "from aicspylibczi import CziFile\n",
    "import re\n",
    "import nrrd"
   ]
  },
  {
   "cell_type": "code",
   "execution_count": 2,
   "id": "a949e186-dfd3-4969-b07c-af22bc7fe898",
   "metadata": {},
   "outputs": [],
   "source": [
    "file_path = r'C:\\Users\\keshavgubbi\\Desktop\\HCR\\raw_data\\20210302_rspo1_cckb'\n",
    "ref_channel_path = file_path + '/reference/'\n",
    "sig_channel_path = file_path + '/signal/'\n"
   ]
  },
  {
   "cell_type": "code",
   "execution_count": null,
   "id": "e105cc83-907e-4552-97c7-50ec8ae71a18",
   "metadata": {},
   "outputs": [],
   "source": [
    "def get_channel_names(imagefilename):\n",
    "    name, ext = imagefilename.split('.')\n",
    "    if ref_ch_num == 0:\n",
    "        a, sig_ch1_name, ref_ch_name, fish_num = re.split(r'_ch\\d_', name)\n",
    "#         print('ref_ch_num == 0:',a, sig_ch1_name, ref_ch_name, fish_num)\n",
    "    elif ref_ch_num == 1:\n",
    "        a, ref_ch_name, sig_ch1_name, fish_num = re.split(r'_ch\\d_', name)\n",
    "#         print('ref_ch_num == 1:',a, ref_ch_name, sig_ch1_name, fish_num)\n",
    "    else:\n",
    "        ref_ch_name, a, sig_ch1_name, fish_num = re.split(r'_ch\\d_', name)\n",
    "#         print('ref_ch_num == 2:',ref_ch_name, a, sig_ch1_name, fish_num)\n",
    "        \n",
    "    embryo_name, sig_ch2_name = a.rsplit('_', 1)\n",
    "    \n",
    "    print('fish_num:', fish_num)\n",
    "    print('ref_ch_name:', ref_ch_name)\n",
    "    print('sig_ch1_name:', sig_ch1_name)\n",
    "    print('sig_ch2_name:', sig_ch2_name)\n",
    "    print('embryo_name:', embryo_name)\n",
    "    return ref_ch_name, embryo_name, sig_ch2_name, sig_ch1_name, fish_num"
   ]
  },
  {
   "cell_type": "code",
   "execution_count": null,
   "id": "25c0884c-620f-47b8-ab71-b9cd89ecb6ff",
   "metadata": {},
   "outputs": [],
   "source": []
  },
  {
   "cell_type": "code",
   "execution_count": 3,
   "id": "35f6e264-9140-45a5-a09a-f9709c552b0e",
   "metadata": {},
   "outputs": [],
   "source": [
    "def create_channel_folder(path):\n",
    "    if not os.path.exists(path):\n",
    "        print(f'Creating {path}')\n",
    "        os.makedirs(path, exist_ok=True)\n",
    "        return path"
   ]
  },
  {
   "cell_type": "code",
   "execution_count": null,
   "id": "acc05403-a499-4ef6-86c5-128f391903d9",
   "metadata": {},
   "outputs": [],
   "source": [
    "def czi_splitting(file):\n",
    "    max_channels = range(*czi.dims_shape()[0]['C'])\n",
    "    max_slices = range(*czi.dims_shape()[0]['Z'])\n",
    "    for ch_num in max_channels:\n",
    "        print('Processing ch_num:',ch_num)\n",
    "        image_list = []\n",
    "        for z_plane in max_slices:\n",
    "            print('imagefilename:', file, ', ch_num:', ch_num, ', z_plane:', z_plane)\n",
    "            imgarray, shp = czi.read_image(B=0, S=0, C=ch_num, T=0, Z=z_plane)\n",
    "            image_list.append(np.squeeze(imgarray))      \n",
    "            return ch_num, image_list"
   ]
  },
  {
   "cell_type": "code",
   "execution_count": null,
   "id": "9c8e15e6-8626-4b3a-a04f-77473d488ef4",
   "metadata": {},
   "outputs": [],
   "source": [
    "########Splitting Channels####################\n",
    "ref_num = int(input('Enter Reference Channel Number:'))\n",
    "for file in os.listdir(file_path):\n",
    "    if file.endswith('.czi'):\n",
    "        print(file)\n",
    "#         ref_name, exp_name, sig2_name, sig1_name, f_num = get_channel_names(file)\n",
    "        create_channel_folder(ref_channel_path)\n",
    "        create_channel_folder(sig_channel_path)\n",
    "        b, sig_ch1_name, sig_ch2_name, ref_ch_name = re.split(r'_ch\\d_', file)\n",
    "#         print(b, sig_ch1_name, sig_ch2_name, ref_ch_name)\n",
    "        c, ext = ref_ch_name.split('.',1)\n",
    "        ref_ch_name, fish_num = c.split('_',1)\n",
    "#         print(c, ext)\n",
    "#         print(ref_ch_name, fish_num)\n",
    "        \n",
    "        print('fish_num:', fish_num)\n",
    "        print('ref_ch_name:', ref_ch_name)\n",
    "        print('sig_ch1_name:', sig_ch1_name)\n",
    "        print('sig_ch2_name:', sig_ch2_name)\n",
    "        print('embryo_name:', b)\n",
    "        # channel_number, i_list = split_czi_channels(os.path.join(file_path, file))\n",
    "        czi = CziFile(os.path.join(file_path, file))\n",
    "        max_channels = range(*czi.dims_shape()[0]['C'])\n",
    "        max_slices = range(*czi.dims_shape()[0]['Z'])\n",
    "        for ch_num in max_channels:\n",
    "            print('Processing ch_num:',ch_num)\n",
    "            image_list = []\n",
    "            for z_plane in max_slices:\n",
    "#                 print('imagefilename:', file, ', ch_num:', ch_num, ', z_plane:', z_plane)\n",
    "#                 print('z_plane:', z_plane)\n",
    "                imgarray, shp = czi.read_image(B=0, S=0, C=ch_num, T=0, Z=z_plane)\n",
    "                image_list.append(np.squeeze(imgarray))      \n",
    "                if ref_ch_num == ref_ch_num:\n",
    "                    ref_channel_image = np.stack(image_list).astype('uint8')\n",
    "                else:\n",
    "                    sig_channel_image = np.stack(image_list).astype('uint8')\n",
    "        print('###############################################################################')\n",
    "    else:\n",
    "        print(\"Not a .czi file. Please recheck File format!\")\n",
    "###################"
   ]
  },
  {
   "cell_type": "code",
   "execution_count": null,
   "id": "d79e2b5f-3cab-4714-8635-1ebd2b762051",
   "metadata": {},
   "outputs": [],
   "source": [
    "nrrd.write(os.path.join(ref_channel_path, f\"{exp_name}_{f_num}_{ref_name}.nrrd\"), ref_channel_image, index_order='C')\n",
    "nrrd.write(os.path.join(sig_channel_path, f\"{exp_name}_{f_num}_{sig1_name}.nrrd\"),sig_channel_image, index_order='C')"
   ]
  },
  {
   "cell_type": "code",
   "execution_count": null,
   "id": "df6d3e26-d23c-4855-acad-6ee1c22d3826",
   "metadata": {},
   "outputs": [],
   "source": [
    "\n"
   ]
  },
  {
   "cell_type": "code",
   "execution_count": null,
   "id": "0ee2802e-e231-4378-80f5-387ee91c501f",
   "metadata": {},
   "outputs": [],
   "source": []
  },
  {
   "cell_type": "code",
   "execution_count": null,
   "id": "6c09c866-512e-46f8-aae1-558604943c3d",
   "metadata": {},
   "outputs": [],
   "source": []
  },
  {
   "cell_type": "code",
   "execution_count": 5,
   "id": "4357d95a-d061-4649-b2bc-a831f5644dba",
   "metadata": {},
   "outputs": [],
   "source": []
  },
  {
   "cell_type": "markdown",
   "id": "0c1d7789-3881-4d18-b577-a412c28b5693",
   "metadata": {},
   "source": [
    "# Filetype B"
   ]
  },
  {
   "cell_type": "code",
   "execution_count": null,
   "id": "0381da06-9852-43c9-90b6-91a653651df8",
   "metadata": {},
   "outputs": [],
   "source": [
    "file_path = r'C:\\Users\\keshavgubbi\\Desktop\\HCR\\raw_data\\20210302_rspo1_cckb'\n",
    "ref_channel_path = file_path + '/reference/'\n",
    "sig_channel_path = file_path + '/signal/'"
   ]
  },
  {
   "cell_type": "code",
   "execution_count": 25,
   "id": "1af90df2-5400-41f7-963d-af7e4802313d",
   "metadata": {},
   "outputs": [
    {
     "name": "stdin",
     "output_type": "stream",
     "text": [
      "Enter Reference Channel Number: 0\n"
     ]
    },
    {
     "name": "stdout",
     "output_type": "stream",
     "text": [
      "6dpf_huc_h2b_gcamp6s_ch3_cckb_ch2_rspo1_ch1_GC6s_1.czi\n",
      "fish_num: 1\n",
      "ref_ch_name: GC6s\n",
      "sig_ch1_name: cckb\n",
      "sig_ch2_name: rspo1\n",
      "embryo_name: 6dpf_huc_h2b_gcamp6s\n",
      "ch_num: 0\n",
      "ch_num: 1\n",
      "ch_num: 2\n",
      "6dpf_huc_h2b_gcamp6s_ch3_cckb_ch2_rspo1_ch1_GC6s_2.czi\n",
      "fish_num: 2\n",
      "ref_ch_name: GC6s\n",
      "sig_ch1_name: cckb\n",
      "sig_ch2_name: rspo1\n",
      "embryo_name: 6dpf_huc_h2b_gcamp6s\n",
      "ch_num: 0\n",
      "ch_num: 1\n",
      "ch_num: 2\n",
      "6dpf_huc_h2b_gcamp6s_ch3_cckb_ch2_rspo1_ch1_GC6s_3.czi\n",
      "fish_num: 3\n",
      "ref_ch_name: GC6s\n",
      "sig_ch1_name: cckb\n",
      "sig_ch2_name: rspo1\n",
      "embryo_name: 6dpf_huc_h2b_gcamp6s\n",
      "ch_num: 0\n",
      "ch_num: 1\n",
      "ch_num: 2\n"
     ]
    }
   ],
   "source": [
    "########Splitting Channels####################\n",
    "ref_num = int(input('Enter Reference Channel Number:'))\n",
    "\n",
    "for file in os.listdir(file_path):\n",
    "    if file.endswith('.czi'):\n",
    "        print(file)\n",
    "        create_channel_folder(ref_channel_path)\n",
    "        create_channel_folder(sig_channel_path)\n",
    "        b, sig_ch1_name, sig_ch2_name, ref_ch_name = re.split(r'_ch\\d_', file)\n",
    "        c, ext = ref_ch_name.split('.',1)\n",
    "        ref_ch_name, fish_num = c.split('_',1)\n",
    "        \n",
    "        print('fish_num:', fish_num)\n",
    "        print('ref_ch_name:', ref_ch_name)\n",
    "        print('sig_ch1_name:', sig_ch1_name)\n",
    "        print('sig_ch2_name:', sig_ch2_name)\n",
    "        print('embryo_name:', b)\n",
    "\n",
    "        \n",
    "        c = CziFile(os.path.join(file_path, file))\n",
    "        max_channels = range(*c.dims_shape()[0]['C'])\n",
    "        max_slices = range(*c.dims_shape()[0]['Z'])\n",
    "\n",
    "        # for ch_num in max_channels:\n",
    "        for ch_num in range(len(max_channels)):\n",
    "            print('ch_num:', ch_num)\n",
    "            ref_image_list = sig1_image_list = sig2_image_list = []\n",
    "            for z_plane in max_slices:\n",
    "                imgarray, shp = c.read_image(B=0, S=0, C=ch_num, T=0, Z=z_plane)\n",
    "                if ch_num == 0:\n",
    "                    ref_image_list.append(np.squeeze(imgarray))\n",
    "                elif ch_num == 1:\n",
    "                    sig1_image_list.append(np.squeeze(imgarray))\n",
    "                elif ch_num == 2:\n",
    "                    sig2_image_list.append(np.squeeze(imgarray))   \n",
    "                else:\n",
    "                    print('Exceeded Maximum number of channels')"
   ]
  },
  {
   "cell_type": "code",
   "execution_count": 26,
   "id": "ee7be3e9-1311-43eb-9954-ca84d42fb223",
   "metadata": {},
   "outputs": [],
   "source": [
    "RImage = np.stack(ref_image_list).astype('uint8')\n",
    "\n",
    "S1Image = np.stack(sig1_image_list).astype('uint8')\n",
    "\n",
    "S2Image = np.stack(sig1_image_list).astype('uint8')"
   ]
  },
  {
   "cell_type": "markdown",
   "id": "0e1eca71-5602-4f22-bd21-54859acb189e",
   "metadata": {},
   "source": [
    "### Writing the individual Channels into nrrd format"
   ]
  },
  {
   "cell_type": "code",
   "execution_count": 29,
   "id": "2860bc06-ae1d-49da-bd94-9c1efef659b1",
   "metadata": {},
   "outputs": [],
   "source": [
    "nrrd.write(os.path.join(ref_channel_path, f\"{b}_{fish_num}_{ref_ch_name}.nrrd\"), RImage, index_order='C')\n",
    "\n",
    "nrrd.write(os.path.join(sig_channel_path, f\"{b}_{fish_num}_{sig_ch1_name}.nrrd\"),S1Image, index_order='C')\n",
    "\n",
    "nrrd.write(os.path.join(sig_channel_path, f\"{b}_{fish_num}_{sig_ch2_name}.nrrd\"),S2Image, index_order='C')"
   ]
  },
  {
   "cell_type": "code",
   "execution_count": 30,
   "id": "d0e63cae-4d3b-4224-9342-157108613393",
   "metadata": {},
   "outputs": [],
   "source": []
  },
  {
   "cell_type": "code",
   "execution_count": 31,
   "id": "758d9e9e-60a3-4ce5-9277-aae3af7bcfff",
   "metadata": {},
   "outputs": [],
   "source": []
  },
  {
   "cell_type": "code",
   "execution_count": null,
   "id": "b6f83603-0138-4e97-a72f-8fc5b31fd8e8",
   "metadata": {},
   "outputs": [],
   "source": [
    "   "
   ]
  }
 ],
 "metadata": {
  "kernelspec": {
   "display_name": "Python 3",
   "language": "python",
   "name": "python3"
  },
  "language_info": {
   "codemirror_mode": {
    "name": "ipython",
    "version": 3
   },
   "file_extension": ".py",
   "mimetype": "text/x-python",
   "name": "python",
   "nbconvert_exporter": "python",
   "pygments_lexer": "ipython3",
   "version": "3.8.8"
  }
 },
 "nbformat": 4,
 "nbformat_minor": 5
}
